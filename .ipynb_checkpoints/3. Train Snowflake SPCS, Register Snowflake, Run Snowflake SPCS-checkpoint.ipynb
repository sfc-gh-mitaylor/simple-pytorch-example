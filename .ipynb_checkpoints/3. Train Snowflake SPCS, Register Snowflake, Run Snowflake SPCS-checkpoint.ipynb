{
 "cells": [
  {
   "cell_type": "code",
   "execution_count": 1,
   "id": "b51a0ef2-3578-4ad9-ad78-a845986a0595",
   "metadata": {},
   "outputs": [
    {
     "name": "stdout",
     "output_type": "stream",
     "text": [
      "Intel MKL WARNING: Support of Intel(R) Streaming SIMD Extensions 4.2 (Intel(R) SSE4.2) enabled only processors has been deprecated. Intel oneAPI Math Kernel Library 2025.0 will require Intel(R) Advanced Vector Extensions (Intel(R) AVX) instructions.\n",
      "Intel MKL WARNING: Support of Intel(R) Streaming SIMD Extensions 4.2 (Intel(R) SSE4.2) enabled only processors has been deprecated. Intel oneAPI Math Kernel Library 2025.0 will require Intel(R) Advanced Vector Extensions (Intel(R) AVX) instructions.\n"
     ]
    }
   ],
   "source": [
    "import json\n",
    "import numpy as np\n",
    "import pandas as pd\n",
    "import os\n",
    "import sys\n",
    "import time\n",
    "\n",
    "from snowflake.snowpark.session import Session\n",
    "from snowflake.snowpark.functions import sproc, col\n",
    "import snowflake.snowpark.functions as F\n",
    "import snowflake.snowpark.types as T\n",
    "\n",
    "from snowflake.snowpark.types import PandasDataFrameType, IntegerType, StringType, FloatType, Variant\n",
    "from snowflake.snowpark.exceptions import SnowparkSQLException\n",
    "\n",
    "import torch\n",
    "import torch.distributed as dist\n",
    "from torch import nn\n",
    "import torch.optim as optim\n",
    "from torch.nn.parallel import DistributedDataParallel as DDP\n",
    "from torch.utils.data import DataLoader\n",
    "import os\n",
    "import torch.distributed as dist\n",
    "from snowflake.ml.fileset import fileset"
   ]
  },
  {
   "cell_type": "code",
   "execution_count": 2,
   "id": "bb5c97b1-b9e0-4aa4-a306-498d27729d6a",
   "metadata": {},
   "outputs": [
    {
     "data": {
      "text/plain": [
       "[Row(status='Warehouse ASYNC_WH successfully created.')]"
      ]
     },
     "execution_count": 2,
     "metadata": {},
     "output_type": "execute_result"
    }
   ],
   "source": [
    "# Reading Snowflake Connection Details\n",
    "snowflake_connection_cfg = json.loads(open(\"/Users/mitaylor/Documents/creds/creds.json\").read())\n",
    "\n",
    "# Creating Snowpark Session\n",
    "session = Session.builder.configs(snowflake_connection_cfg).create()\n",
    "\n",
    "# Create a fresh & new schema\n",
    "session.sql(\"CREATE OR REPLACE DATABASE PYTORCH_DEMO\").collect()\n",
    "session.sql('''CREATE OR REPLACE STAGE UDF_STAGE''').collect()\n",
    "session.sql('''CREATE OR REPLACE STAGE FILESET_DEMO\n",
    "  DIRECTORY = ( ENABLE = true )\n",
    "  encryption=(type='SNOWFLAKE_SSE')''').collect()\n",
    "\n",
    "session.sql(\"CREATE OR REPLACE WAREHOUSE ASYNC_WH WITH WAREHOUSE_SIZE='X-SMALL'\").collect()"
   ]
  },
  {
   "cell_type": "markdown",
   "id": "1299561d-500d-4338-b3d0-3fb6b9d84dc6",
   "metadata": {},
   "source": [
    "# 1. Create a Data Set"
   ]
  },
  {
   "cell_type": "markdown",
   "id": "8dc44765-8116-4ed7-b6a4-8a99f231e849",
   "metadata": {},
   "source": [
    "# 1.1 Load some arbitrary data into Snowflake"
   ]
  },
  {
   "cell_type": "code",
   "execution_count": 3,
   "id": "89cfdf67-7ec0-4be0-afc0-5685e1088068",
   "metadata": {},
   "outputs": [
    {
     "data": {
      "text/plain": [
       "<snowflake.snowpark.table.Table at 0x7fe578171780>"
      ]
     },
     "execution_count": 3,
     "metadata": {},
     "output_type": "execute_result"
    }
   ],
   "source": [
    "from sklearn.datasets import make_classification\n",
    "import pandas as pd\n",
    "columns = [str(i) for i in range(0,10)]\n",
    "X,y = make_classification(n_samples=100000, n_features=10, n_classes=2)\n",
    "X = np.array(X, dtype=np.float32)\n",
    "df = pd.DataFrame(X, columns=columns)\n",
    "feature_cols = [\"COL\" + i for i in df.columns]\n",
    "df.columns = feature_cols\n",
    "df['Y'] = y\n",
    "session.write_pandas(df, table_name='DUMMY_DATASET', auto_create_table=True, overwrite=True)"
   ]
  },
  {
   "cell_type": "markdown",
   "id": "6d19073c-87b9-470e-a5f5-3e668f2ea628",
   "metadata": {},
   "source": [
    "## 1.2 Create a Fileset Snapshot"
   ]
  },
  {
   "cell_type": "code",
   "execution_count": 4,
   "id": "e0fed52b-e291-495a-b7ae-99ba7df1e0c4",
   "metadata": {},
   "outputs": [],
   "source": [
    "sdf = session.table('DUMMY_DATASET')\n",
    "train_sdf, test_sdf = sdf.random_split(weights=[0.8, 0.2], seed=0)\n",
    "train_sdf.write.mode('overwrite').save_as_table('DUMMY_DATASET_TRAIN')\n",
    "test_sdf.write.mode('overwrite').save_as_table('DUMMY_DATASET_TEST')"
   ]
  },
  {
   "cell_type": "code",
   "execution_count": 5,
   "id": "2c84ab99-9ce1-4077-962b-ed5419bfc699",
   "metadata": {},
   "outputs": [
    {
     "name": "stderr",
     "output_type": "stream",
     "text": [
      "FileSet.files() is in private preview since 0.2.0. Do not use it in production. \n",
      "SFFileSystem.ls() is in private preview since 0.2.0. Do not use it in production. \n",
      "WARNING:snowflake.snowpark:SFStageFileSystem.ls() is in private preview since 0.2.0. Do not use it in production. \n"
     ]
    }
   ],
   "source": [
    "FS_STAGE_NAME = \"FILESET_DEMO\"\n",
    "fileset_train_sdf = fileset.FileSet.make(\n",
    "    target_stage_loc=f\"@{session.get_current_database()}.{session.get_current_schema()}.{FS_STAGE_NAME}/\",\n",
    "    name=\"DUMMY_FILESET_TRAIN\",\n",
    "    snowpark_dataframe=train_sdf,\n",
    "    shuffle=True,\n",
    ")\n",
    "\n",
    "fileset_test_sdf = fileset.FileSet.make(\n",
    "    target_stage_loc=f\"@{session.get_current_database()}.{session.get_current_schema()}.{FS_STAGE_NAME}/\",\n",
    "    name=\"DUMMY_FILESET_TEST\",\n",
    "    snowpark_dataframe=test_sdf,\n",
    "    shuffle=True,\n",
    ")"
   ]
  },
  {
   "cell_type": "markdown",
   "id": "3638a113-703d-4c4e-bf01-0f40ccd44b56",
   "metadata": {},
   "source": [
    "# 1.3 Get the Filset locally "
   ]
  },
  {
   "cell_type": "code",
   "execution_count": 6,
   "id": "03a78ce9-db34-4939-b275-ee4c48c8ae76",
   "metadata": {},
   "outputs": [
    {
     "data": {
      "text/plain": [
       "[Row(file='data_01b3fede-0000-e048-0000-f14900afc156_016_1_0.snappy.parquet', size=1187494, status='DOWNLOADED', message='')]"
      ]
     },
     "execution_count": 6,
     "metadata": {},
     "output_type": "execute_result"
    }
   ],
   "source": [
    "session.sql(\"GET @FILESET_DEMO/DUMMY_FILESET_TRAIN 'file:///Users/mitaylor/Documents/GitHub/AA Cleaned Repos/simple-pytorch-example/data/train' \").collect()\n",
    "session.sql(\"GET @FILESET_DEMO/DUMMY_FILESET_TEST 'file:///Users/mitaylor/Documents/GitHub/AA Cleaned Repos/simple-pytorch-example/data/test' \").collect()"
   ]
  },
  {
   "cell_type": "markdown",
   "id": "fb36c053-05f9-48e8-896b-4d6f17144a72",
   "metadata": {},
   "source": [
    "# 2. Build Neural Net In Pytorch"
   ]
  },
  {
   "cell_type": "markdown",
   "id": "1d12ac8d-b19d-4524-a503-dc4f05b4f080",
   "metadata": {},
   "source": [
    "## 2.1 Prep the Data"
   ]
  },
  {
   "cell_type": "code",
   "execution_count": 7,
   "id": "31ab3236-f10a-4d1f-b78a-6f928e97f657",
   "metadata": {},
   "outputs": [],
   "source": [
    "X_tens = torch.tensor(X)\n",
    "y_tens = torch.tensor(y)"
   ]
  },
  {
   "cell_type": "code",
   "execution_count": 8,
   "id": "f65ab472-24e6-4791-98f7-82d18a054ad2",
   "metadata": {},
   "outputs": [],
   "source": [
    "# convert into PyTorch tensors\n",
    "X_tens = torch.empty_like(X_tens).copy_(X_tens)\n",
    "y_tens = torch.empty_like(y_tens).copy_(y_tens).reshape(-1, 1)\n",
    "loader = DataLoader(list(zip(X_tens,y_tens)), shuffle=True, batch_size=16)\n"
   ]
  },
  {
   "cell_type": "code",
   "execution_count": 9,
   "id": "1988b676-148b-4d2e-9df4-58228c9b50b3",
   "metadata": {},
   "outputs": [],
   "source": [
    "class MyModel(nn.Module):\n",
    "    def __init__(self):\n",
    "        super(MyModel, self).__init__()\n",
    "        self.model = nn.Sequential(\n",
    "            nn.Linear(10, 10),\n",
    "            nn.ReLU(),\n",
    "            nn.Linear(10, 1),\n",
    "            nn.ReLU(),\n",
    "        )\n",
    "\n",
    "    def forward(self, tensor:torch.Tensor):\n",
    "        return self.model(tensor)"
   ]
  },
  {
   "cell_type": "markdown",
   "id": "8c3d68b6-2ecd-44f8-b43d-2617fe67273e",
   "metadata": {},
   "source": [
    "# 3. Train the Neural Network"
   ]
  },
  {
   "cell_type": "code",
   "execution_count": 10,
   "id": "f23ff38f-9d95-4dbc-84a3-f2f56af0ae41",
   "metadata": {},
   "outputs": [],
   "source": [
    "def train_model():\n",
    "    n_epochs = 5\n",
    "    device = 'cpu'\n",
    "    model = MyModel()\n",
    "    model = model.to(device)\n",
    "    loss_fn = nn.MSELoss()\n",
    "    optimizer = optim.SGD(model.parameters(), lr=0.1)\n",
    "    start_time = time.time()\n",
    "    \n",
    "    # Training step\n",
    "    for epoch in range(n_epochs):\n",
    "        current_loss = 0.0\n",
    "    \n",
    "        for batch, (X, y) in enumerate(loader):\n",
    "    \n",
    "            X_batch, y_batch = X.to(device), y.to(device)\n",
    "            # forward pass\n",
    "            y_pred = model(X_batch)\n",
    "    \n",
    "            # compute loss\n",
    "            loss = loss_fn(y_pred.float(), y_batch.float())\n",
    "    \n",
    "            # backward pass\n",
    "            optimizer.zero_grad()\n",
    "            loss.backward()\n",
    "            optimizer.step()\n",
    "    \n",
    "            current_loss += loss.item()\n",
    "    \n",
    "        if epoch % 10 == 0:\n",
    "           print(f\"Loss after epoch {epoch}: {current_loss}\")\n",
    "           for param in model.parameters():\n",
    "                print(param.data)\n",
    "    \n",
    "    end_time = time.time()\n",
    "    print('Model training complete.')\n",
    "    print(f'Training time: {end_time-start_time}')\n",
    "    return model"
   ]
  },
  {
   "cell_type": "code",
   "execution_count": 11,
   "id": "0069d0ea-0cf7-461f-9442-9c3d708873a6",
   "metadata": {},
   "outputs": [
    {
     "name": "stdout",
     "output_type": "stream",
     "text": [
      "Loss after epoch 0: 485.9050761987455\n",
      "tensor([[-1.5332e-02, -4.2688e-02, -4.2648e-01, -2.4796e-02,  2.5162e-02,\n",
      "          2.4555e-02,  5.9491e-01, -3.6272e-02,  3.9479e-02,  1.0484e-01],\n",
      "        [-4.0024e-01, -8.4230e-03, -4.1975e-01, -3.4622e-02,  2.0299e-02,\n",
      "          3.9257e-02,  1.6368e-02,  2.1771e-02, -2.3260e-02,  1.4093e-01],\n",
      "        [-4.3346e-01, -8.6338e-02,  2.0438e-01, -5.8506e-03,  1.2677e-01,\n",
      "         -7.5516e-02, -1.7939e-01,  1.4602e-01,  6.1440e-02,  1.5228e-01],\n",
      "        [ 3.0335e-01,  4.6633e-02, -1.3300e-01, -5.7427e-02,  7.2116e-04,\n",
      "          3.3467e-02, -2.2827e-02, -1.4657e-02, -1.9141e-02, -3.0798e-01],\n",
      "        [ 1.0250e-01,  1.3639e-01,  4.7008e-02,  2.1274e-03, -6.2882e-02,\n",
      "          8.1276e-02, -2.9430e-01, -9.4658e-02, -7.4674e-02, -8.9625e-02],\n",
      "        [ 1.2783e-01,  7.4283e-03,  5.1467e-01, -1.3684e-02,  1.3764e-02,\n",
      "         -1.7808e-02, -8.1767e-01,  1.2480e-02,  4.6685e-03,  1.0464e-01],\n",
      "        [ 5.3483e-01,  1.7646e-02,  2.4456e-01, -7.6937e-03, -2.2919e-02,\n",
      "         -6.0411e-03,  7.0179e-01, -3.5012e-02,  1.3715e-02,  1.0811e-01],\n",
      "        [ 3.6493e-01, -1.4207e-02,  1.8604e-01, -2.4316e-02,  2.9054e-02,\n",
      "         -1.5763e-02,  3.2640e-01,  2.0700e-02,  9.5023e-03, -2.8463e-01],\n",
      "        [ 2.8915e-01,  7.3045e-02, -2.5340e-01,  6.2045e-02, -1.0719e-01,\n",
      "         -2.2698e-02,  1.9809e-01, -7.4836e-02,  2.1740e-02, -1.9963e-02],\n",
      "        [-1.0950e-02,  3.1466e-02, -7.3862e-02,  1.4818e-01, -1.4024e-01,\n",
      "         -1.1704e-01,  1.1201e-01, -5.2013e-02, -5.7453e-02, -2.1537e-01]])\n",
      "tensor([-0.3031,  0.6761, -0.1634, -0.3588,  0.3124, -0.4336, -0.4688, -0.8386,\n",
      "        -0.2152,  0.1758])\n",
      "tensor([[-0.3772, -0.2624, -0.0063, -0.2178, -0.0222,  0.5159,  0.6152, -0.6912,\n",
      "         -0.1638, -0.0254]])\n",
      "tensor([0.5090])\n",
      "Model training complete.\n",
      "Training time: 10.013937711715698\n"
     ]
    }
   ],
   "source": [
    "model = train_model()"
   ]
  },
  {
   "cell_type": "markdown",
   "id": "0deab937-0934-44fc-a407-6cd9a19721dd",
   "metadata": {},
   "source": [
    "# 4. Deploy model (into Registry, then into a UDF)"
   ]
  },
  {
   "cell_type": "code",
   "execution_count": 12,
   "id": "0773fcf7-6c68-44c0-830c-2b53a0234c6e",
   "metadata": {},
   "outputs": [],
   "source": [
    "from snowflake.ml.registry import registry\n",
    "\n",
    "REGISTRY_DATABASE_NAME = \"PYTORCH_DEMO\"\n",
    "REGISTRY_SCHEMA_NAME = \"PUBLIC\"\n",
    "native_registry = registry.Registry(session=session, database_name=REGISTRY_DATABASE_NAME, schema_name=REGISTRY_SCHEMA_NAME)"
   ]
  },
  {
   "cell_type": "code",
   "execution_count": 13,
   "id": "62e837ea-f945-4ce8-9db7-4bdb7c8c1101",
   "metadata": {},
   "outputs": [
    {
     "name": "stderr",
     "output_type": "stream",
     "text": [
      "/Users/mitaylor/opt/anaconda3/envs/snowpark_pytorch/lib/python3.10/contextlib.py:135: UserWarning: `relax_version` is not set and therefore defaulted to True. Dependency version constraints relaxed from ==x.y.z to >=x.y, <(x+1). To use specific dependency versions for compatibility, reproducibility, etc., set `options={'relax_version': False}` when logging the model.\n",
      "  return next(self.gen)\n",
      "/Users/mitaylor/opt/anaconda3/envs/snowpark_pytorch/lib/python3.10/site-packages/snowflake/ml/model/model_signature.py:69: UserWarning: The sample input has 100000 rows, thus a truncation happened before inferring signature. This might cause inaccurate signature inference. If that happens, consider specifying signature manually.\n",
      "  warnings.warn(\n"
     ]
    }
   ],
   "source": [
    "model_ref = native_registry.log_model(\n",
    "    model,\n",
    "    model_name=\"torchModel\",\n",
    "    version_name=\"v1\",\n",
    "    sample_input_data=[X_tens],\n",
    ")"
   ]
  },
  {
   "cell_type": "code",
   "execution_count": 14,
   "id": "dd7770f1-8b03-41ec-bdac-89ca57663381",
   "metadata": {},
   "outputs": [
    {
     "data": {
      "text/plain": [
       "[{'name': 'FORWARD',\n",
       "  'target_method': 'forward',\n",
       "  'signature': ModelSignature(\n",
       "                      inputs=[\n",
       "                          FeatureSpec(dtype=DataType.FLOAT, name='input_feature_0', shape=(10,))\n",
       "                      ],\n",
       "                      outputs=[\n",
       "                          FeatureSpec(dtype=DataType.FLOAT, name='output_feature_0', shape=(1,))\n",
       "                      ]\n",
       "                  )}]"
      ]
     },
     "execution_count": 14,
     "metadata": {},
     "output_type": "execute_result"
    }
   ],
   "source": [
    "model_ref.show_functions()"
   ]
  },
  {
   "cell_type": "code",
   "execution_count": 15,
   "id": "093ce068-b585-4ea1-89a5-a263b17905a8",
   "metadata": {},
   "outputs": [
    {
     "data": {
      "text/html": [
       "<div>\n",
       "<style scoped>\n",
       "    .dataframe tbody tr th:only-of-type {\n",
       "        vertical-align: middle;\n",
       "    }\n",
       "\n",
       "    .dataframe tbody tr th {\n",
       "        vertical-align: top;\n",
       "    }\n",
       "\n",
       "    .dataframe thead th {\n",
       "        text-align: right;\n",
       "    }\n",
       "</style>\n",
       "<table border=\"1\" class=\"dataframe\">\n",
       "  <thead>\n",
       "    <tr style=\"text-align: right;\">\n",
       "      <th></th>\n",
       "      <th>output_feature_0</th>\n",
       "    </tr>\n",
       "  </thead>\n",
       "  <tbody>\n",
       "    <tr>\n",
       "      <th>0</th>\n",
       "      <td>[0.9778361320495605]</td>\n",
       "    </tr>\n",
       "    <tr>\n",
       "      <th>1</th>\n",
       "      <td>[0.9840174913406372]</td>\n",
       "    </tr>\n",
       "    <tr>\n",
       "      <th>2</th>\n",
       "      <td>[0.5009428262710571]</td>\n",
       "    </tr>\n",
       "    <tr>\n",
       "      <th>3</th>\n",
       "      <td>[0]</td>\n",
       "    </tr>\n",
       "    <tr>\n",
       "      <th>4</th>\n",
       "      <td>[0]</td>\n",
       "    </tr>\n",
       "    <tr>\n",
       "      <th>...</th>\n",
       "      <td>...</td>\n",
       "    </tr>\n",
       "    <tr>\n",
       "      <th>99995</th>\n",
       "      <td>[0.8472687005996704]</td>\n",
       "    </tr>\n",
       "    <tr>\n",
       "      <th>99996</th>\n",
       "      <td>[1.0193544626235962]</td>\n",
       "    </tr>\n",
       "    <tr>\n",
       "      <th>99997</th>\n",
       "      <td>[0]</td>\n",
       "    </tr>\n",
       "    <tr>\n",
       "      <th>99998</th>\n",
       "      <td>[0]</td>\n",
       "    </tr>\n",
       "    <tr>\n",
       "      <th>99999</th>\n",
       "      <td>[1.0300495624542236]</td>\n",
       "    </tr>\n",
       "  </tbody>\n",
       "</table>\n",
       "<p>100000 rows × 1 columns</p>\n",
       "</div>"
      ],
      "text/plain": [
       "           output_feature_0\n",
       "0      [0.9778361320495605]\n",
       "1      [0.9840174913406372]\n",
       "2      [0.5009428262710571]\n",
       "3                       [0]\n",
       "4                       [0]\n",
       "...                     ...\n",
       "99995  [0.8472687005996704]\n",
       "99996  [1.0193544626235962]\n",
       "99997                   [0]\n",
       "99998                   [0]\n",
       "99999  [1.0300495624542236]\n",
       "\n",
       "[100000 rows x 1 columns]"
      ]
     },
     "execution_count": 15,
     "metadata": {},
     "output_type": "execute_result"
    }
   ],
   "source": [
    "model_ref.run([X_tens])"
   ]
  },
  {
   "cell_type": "code",
   "execution_count": 23,
   "id": "c2436448-7787-4bd4-bf5e-ff1c541cbade",
   "metadata": {},
   "outputs": [
    {
     "data": {
      "text/html": [
       "<div>\n",
       "<style scoped>\n",
       "    .dataframe tbody tr th:only-of-type {\n",
       "        vertical-align: middle;\n",
       "    }\n",
       "\n",
       "    .dataframe tbody tr th {\n",
       "        vertical-align: top;\n",
       "    }\n",
       "\n",
       "    .dataframe thead th {\n",
       "        text-align: right;\n",
       "    }\n",
       "</style>\n",
       "<table border=\"1\" class=\"dataframe\">\n",
       "  <thead>\n",
       "    <tr style=\"text-align: right;\">\n",
       "      <th></th>\n",
       "      <th>COL0</th>\n",
       "      <th>COL1</th>\n",
       "      <th>COL2</th>\n",
       "      <th>COL3</th>\n",
       "      <th>COL4</th>\n",
       "      <th>COL5</th>\n",
       "      <th>COL6</th>\n",
       "      <th>COL7</th>\n",
       "      <th>COL8</th>\n",
       "      <th>COL9</th>\n",
       "      <th>input_feature_0</th>\n",
       "    </tr>\n",
       "  </thead>\n",
       "  <tbody>\n",
       "    <tr>\n",
       "      <th>0</th>\n",
       "      <td>1.393693</td>\n",
       "      <td>0.851332</td>\n",
       "      <td>0.751124</td>\n",
       "      <td>-0.400523</td>\n",
       "      <td>0.545574</td>\n",
       "      <td>0.103497</td>\n",
       "      <td>1.151555</td>\n",
       "      <td>-0.023779</td>\n",
       "      <td>0.024589</td>\n",
       "      <td>-0.319839</td>\n",
       "      <td>[\\n  1.393693327903748e+00,\\n  8.5133218765258...</td>\n",
       "    </tr>\n",
       "  </tbody>\n",
       "</table>\n",
       "</div>"
      ],
      "text/plain": [
       "       COL0      COL1      COL2      COL3      COL4      COL5      COL6  \\\n",
       "0  1.393693  0.851332  0.751124 -0.400523  0.545574  0.103497  1.151555   \n",
       "\n",
       "       COL7      COL8      COL9  \\\n",
       "0 -0.023779  0.024589 -0.319839   \n",
       "\n",
       "                                     input_feature_0  \n",
       "0  [\\n  1.393693327903748e+00,\\n  8.5133218765258...  "
      ]
     },
     "execution_count": 23,
     "metadata": {},
     "output_type": "execute_result"
    }
   ],
   "source": [
    "input_data_df = session.sql(\"select COL0, COL1, COL2, COL3, COL4, COL5, COL6, COL7, COL8, COL9 FROM DUMMY_DATASET\")\n",
    "input_data_df = input_data_df.with_column('\"input_feature_0\"', F.array_construct('*'))\n",
    "input_data_df.limit(1).to_pandas()"
   ]
  },
  {
   "cell_type": "code",
   "execution_count": 25,
   "id": "f611a081-d298-418d-8d48-27b1c4105229",
   "metadata": {},
   "outputs": [
    {
     "data": {
      "text/html": [
       "<div>\n",
       "<style scoped>\n",
       "    .dataframe tbody tr th:only-of-type {\n",
       "        vertical-align: middle;\n",
       "    }\n",
       "\n",
       "    .dataframe tbody tr th {\n",
       "        vertical-align: top;\n",
       "    }\n",
       "\n",
       "    .dataframe thead th {\n",
       "        text-align: right;\n",
       "    }\n",
       "</style>\n",
       "<table border=\"1\" class=\"dataframe\">\n",
       "  <thead>\n",
       "    <tr style=\"text-align: right;\">\n",
       "      <th></th>\n",
       "      <th>COL0</th>\n",
       "      <th>COL1</th>\n",
       "      <th>COL2</th>\n",
       "      <th>COL3</th>\n",
       "      <th>COL4</th>\n",
       "      <th>COL5</th>\n",
       "      <th>COL6</th>\n",
       "      <th>COL7</th>\n",
       "      <th>COL8</th>\n",
       "      <th>COL9</th>\n",
       "      <th>input_feature_0</th>\n",
       "      <th>output_feature_0</th>\n",
       "    </tr>\n",
       "  </thead>\n",
       "  <tbody>\n",
       "    <tr>\n",
       "      <th>0</th>\n",
       "      <td>1.393693</td>\n",
       "      <td>0.851332</td>\n",
       "      <td>0.751124</td>\n",
       "      <td>-0.400523</td>\n",
       "      <td>0.545574</td>\n",
       "      <td>0.103497</td>\n",
       "      <td>1.151555</td>\n",
       "      <td>-0.023779</td>\n",
       "      <td>0.024589</td>\n",
       "      <td>-0.319839</td>\n",
       "      <td>[\\n  1.393693327903748e+00,\\n  8.5133218765258...</td>\n",
       "      <td>[\\n  0.9778361320495605\\n]</td>\n",
       "    </tr>\n",
       "    <tr>\n",
       "      <th>1</th>\n",
       "      <td>2.148875</td>\n",
       "      <td>2.221024</td>\n",
       "      <td>1.557000</td>\n",
       "      <td>0.295070</td>\n",
       "      <td>-0.297229</td>\n",
       "      <td>0.200594</td>\n",
       "      <td>1.314233</td>\n",
       "      <td>0.361357</td>\n",
       "      <td>-0.862365</td>\n",
       "      <td>-0.578818</td>\n",
       "      <td>[\\n  2.148874759674072e+00,\\n  2.2210237979888...</td>\n",
       "      <td>[\\n  0.9840174913406372\\n]</td>\n",
       "    </tr>\n",
       "    <tr>\n",
       "      <th>2</th>\n",
       "      <td>0.445368</td>\n",
       "      <td>1.203671</td>\n",
       "      <td>0.711755</td>\n",
       "      <td>1.543558</td>\n",
       "      <td>-0.279149</td>\n",
       "      <td>0.710193</td>\n",
       "      <td>-0.177560</td>\n",
       "      <td>0.044377</td>\n",
       "      <td>-1.993368</td>\n",
       "      <td>-0.203527</td>\n",
       "      <td>[\\n  4.453682005405426e-01,\\n  1.2036712169647...</td>\n",
       "      <td>[\\n  0.5009428262710571\\n]</td>\n",
       "    </tr>\n",
       "  </tbody>\n",
       "</table>\n",
       "</div>"
      ],
      "text/plain": [
       "       COL0      COL1      COL2      COL3      COL4      COL5      COL6  \\\n",
       "0  1.393693  0.851332  0.751124 -0.400523  0.545574  0.103497  1.151555   \n",
       "1  2.148875  2.221024  1.557000  0.295070 -0.297229  0.200594  1.314233   \n",
       "2  0.445368  1.203671  0.711755  1.543558 -0.279149  0.710193 -0.177560   \n",
       "\n",
       "       COL7      COL8      COL9  \\\n",
       "0 -0.023779  0.024589 -0.319839   \n",
       "1  0.361357 -0.862365 -0.578818   \n",
       "2  0.044377 -1.993368 -0.203527   \n",
       "\n",
       "                                     input_feature_0  \\\n",
       "0  [\\n  1.393693327903748e+00,\\n  8.5133218765258...   \n",
       "1  [\\n  2.148874759674072e+00,\\n  2.2210237979888...   \n",
       "2  [\\n  4.453682005405426e-01,\\n  1.2036712169647...   \n",
       "\n",
       "             output_feature_0  \n",
       "0  [\\n  0.9778361320495605\\n]  \n",
       "1  [\\n  0.9840174913406372\\n]  \n",
       "2  [\\n  0.5009428262710571\\n]  "
      ]
     },
     "execution_count": 25,
     "metadata": {},
     "output_type": "execute_result"
    }
   ],
   "source": [
    "predictions_df = model_ref.run(input_data_df)\n",
    "predictions_df.limit(3).to_pandas()"
   ]
  },
  {
   "cell_type": "markdown",
   "id": "0fe5cf8f-d885-4407-8602-144adb72ab0a",
   "metadata": {},
   "source": [
    "# 5. Run it on a Fileset in Snowflake"
   ]
  },
  {
   "cell_type": "markdown",
   "id": "aa8d3427-4de9-48a3-8f25-0ae36ee9a5e9",
   "metadata": {},
   "source": [
    "# Do the next cell in a sproc or UDF for server side inference"
   ]
  },
  {
   "cell_type": "code",
   "execution_count": 32,
   "id": "680313a2-6c91-410d-b606-bbafc27fce20",
   "metadata": {},
   "outputs": [],
   "source": [
    "# Use FileSet to get data from a Snowflake table in the form of files in an internal server-side excrypted stage\n",
    "from torch.utils.data import DataLoader\n",
    "\n",
    "STAGE_NAME = \"FILESET_DEMO\"\n",
    "fileset_test_df = fileset.FileSet(\n",
    "    target_stage_loc=f\"@{session.get_current_database()}.{session.get_current_schema()}.{STAGE_NAME}/\",\n",
    "    name=\"DUMMY_FILESET_TEST\",\n",
    "    snowpark_session=session,\n",
    ")\n",
    "\n",
    "\n"
   ]
  },
  {
   "cell_type": "code",
   "execution_count": 34,
   "id": "3bc0e727-191c-49c4-b7e0-f4c1e5ebc445",
   "metadata": {},
   "outputs": [],
   "source": [
    "def get_batch(batch):\n",
    "    X_batch = torch.column_stack(\n",
    "        (\n",
    "            batch[\"COL0\"],\n",
    "            batch[\"COL1\"],\n",
    "            batch[\"COL2\"],\n",
    "            batch[\"COL3\"],\n",
    "            batch[\"COL4\"],\n",
    "            batch[\"COL5\"],\n",
    "            batch[\"COL6\"],\n",
    "            batch[\"COL7\"],\n",
    "            batch[\"COL8\"],\n",
    "            batch[\"COL9\"],\n",
    "        )\n",
    "    )\n",
    "\n",
    "    return X_batch"
   ]
  },
  {
   "cell_type": "code",
   "execution_count": 38,
   "id": "2bc8fb80-0ba5-467e-8063-98071766ffa2",
   "metadata": {},
   "outputs": [],
   "source": [
    "pipe = fileset_test_df.to_torch_datapipe(\n",
    "    batch_size=16,\n",
    "    shuffle=True,\n",
    "    drop_last_batch=True)\n",
    "\n",
    "for batch in DataLoader(pipe, batch_size=None, num_workers=0):\n",
    "    X_batch = get_batch(batch)\n",
    "    model_ref.run([X_batch])\n",
    "    break"
   ]
  },
  {
   "cell_type": "code",
   "execution_count": 39,
   "id": "dd196d97-81b9-402b-beca-aefee003ce48",
   "metadata": {},
   "outputs": [
    {
     "data": {
      "text/html": [
       "<div>\n",
       "<style scoped>\n",
       "    .dataframe tbody tr th:only-of-type {\n",
       "        vertical-align: middle;\n",
       "    }\n",
       "\n",
       "    .dataframe tbody tr th {\n",
       "        vertical-align: top;\n",
       "    }\n",
       "\n",
       "    .dataframe thead th {\n",
       "        text-align: right;\n",
       "    }\n",
       "</style>\n",
       "<table border=\"1\" class=\"dataframe\">\n",
       "  <thead>\n",
       "    <tr style=\"text-align: right;\">\n",
       "      <th></th>\n",
       "      <th>output_feature_0</th>\n",
       "    </tr>\n",
       "  </thead>\n",
       "  <tbody>\n",
       "    <tr>\n",
       "      <th>0</th>\n",
       "      <td>[0.9835563898086548]</td>\n",
       "    </tr>\n",
       "    <tr>\n",
       "      <th>1</th>\n",
       "      <td>[0]</td>\n",
       "    </tr>\n",
       "    <tr>\n",
       "      <th>2</th>\n",
       "      <td>[0.840322732925415]</td>\n",
       "    </tr>\n",
       "    <tr>\n",
       "      <th>3</th>\n",
       "      <td>[1.0599533319473267]</td>\n",
       "    </tr>\n",
       "    <tr>\n",
       "      <th>4</th>\n",
       "      <td>[0.9055103063583374]</td>\n",
       "    </tr>\n",
       "    <tr>\n",
       "      <th>5</th>\n",
       "      <td>[1.0938479900360107]</td>\n",
       "    </tr>\n",
       "    <tr>\n",
       "      <th>6</th>\n",
       "      <td>[0]</td>\n",
       "    </tr>\n",
       "    <tr>\n",
       "      <th>7</th>\n",
       "      <td>[0.9257052540779114]</td>\n",
       "    </tr>\n",
       "    <tr>\n",
       "      <th>8</th>\n",
       "      <td>[0]</td>\n",
       "    </tr>\n",
       "    <tr>\n",
       "      <th>9</th>\n",
       "      <td>[0.9871610403060913]</td>\n",
       "    </tr>\n",
       "    <tr>\n",
       "      <th>10</th>\n",
       "      <td>[0.027779877185821533]</td>\n",
       "    </tr>\n",
       "    <tr>\n",
       "      <th>11</th>\n",
       "      <td>[0.6557130217552185]</td>\n",
       "    </tr>\n",
       "    <tr>\n",
       "      <th>12</th>\n",
       "      <td>[0]</td>\n",
       "    </tr>\n",
       "    <tr>\n",
       "      <th>13</th>\n",
       "      <td>[0.9912440776824951]</td>\n",
       "    </tr>\n",
       "    <tr>\n",
       "      <th>14</th>\n",
       "      <td>[0.9899194240570068]</td>\n",
       "    </tr>\n",
       "    <tr>\n",
       "      <th>15</th>\n",
       "      <td>[0.8418183922767639]</td>\n",
       "    </tr>\n",
       "  </tbody>\n",
       "</table>\n",
       "</div>"
      ],
      "text/plain": [
       "          output_feature_0\n",
       "0     [0.9835563898086548]\n",
       "1                      [0]\n",
       "2      [0.840322732925415]\n",
       "3     [1.0599533319473267]\n",
       "4     [0.9055103063583374]\n",
       "5     [1.0938479900360107]\n",
       "6                      [0]\n",
       "7     [0.9257052540779114]\n",
       "8                      [0]\n",
       "9     [0.9871610403060913]\n",
       "10  [0.027779877185821533]\n",
       "11    [0.6557130217552185]\n",
       "12                     [0]\n",
       "13    [0.9912440776824951]\n",
       "14    [0.9899194240570068]\n",
       "15    [0.8418183922767639]"
      ]
     },
     "execution_count": 39,
     "metadata": {},
     "output_type": "execute_result"
    }
   ],
   "source": [
    "model_ref.run([X_batch])"
   ]
  }
 ],
 "metadata": {
  "kernelspec": {
   "display_name": "Python 3 (ipykernel)",
   "language": "python",
   "name": "python3"
  },
  "language_info": {
   "codemirror_mode": {
    "name": "ipython",
    "version": 3
   },
   "file_extension": ".py",
   "mimetype": "text/x-python",
   "name": "python",
   "nbconvert_exporter": "python",
   "pygments_lexer": "ipython3",
   "version": "3.10.14"
  }
 },
 "nbformat": 4,
 "nbformat_minor": 5
}
